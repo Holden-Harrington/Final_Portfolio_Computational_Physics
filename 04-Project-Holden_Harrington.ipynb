{
 "cells": [
  {
   "cell_type": "markdown",
   "metadata": {},
   "source": [
    "# Final Project - Modeling a Light Curve of an Eclipsing Binary Star System"
   ]
  },
  {
   "cell_type": "markdown",
   "metadata": {},
   "source": [
    "## Research Question\n",
    "How to model a light curve of a binary star system?"
   ]
  },
  {
   "cell_type": "markdown",
   "metadata": {},
   "source": [
    "## Background\n",
    "After modeling the two stars, tiling will be used to find overlap of areas in 2D between the two stars. This is done through tiling to find the area of one star covered by the other.  Tiling is a method consisting of breaking the object apart into little pieces to more easily quantify the object."
   ]
  },
  {
   "cell_type": "markdown",
   "metadata": {},
   "source": [
    "## Computational Model\n",
    "The light curve of a binary star system is modelled below.  This was done through calculating the area of one object while blocked by another as they orbit each other.  The tiling done in this project was specifically done by breaking the rings into 100 little boxes."
   ]
  },
  {
   "cell_type": "markdown",
   "metadata": {},
   "source": [
    "## Assumptions\n",
    "Assuming that energy is conserved in the system, the system being the two objects.  The orbiting star will not affect the position of the stationary star with any gravitational pull."
   ]
  },
  {
   "cell_type": "code",
   "execution_count": 1,
   "metadata": {},
   "outputs": [
    {
     "data": {
      "text/html": [
       "<div id=\"glowscript\" class=\"glowscript\"></div>"
      ],
      "text/plain": [
       "<IPython.core.display.HTML object>"
      ]
     },
     "metadata": {},
     "output_type": "display_data"
    },
    {
     "data": {
      "application/javascript": [
       "if (typeof Jupyter !== \"undefined\") { window.__context = { glowscript_container: $(\"#glowscript\").removeAttr(\"id\")};}else{ element.textContent = ' ';}"
      ],
      "text/plain": [
       "<IPython.core.display.Javascript object>"
      ]
     },
     "metadata": {},
     "output_type": "display_data"
    }
   ],
   "source": [
    "from vpython import *\n",
    "import numpy as np\n",
    "import matplotlib.pyplot as plt"
   ]
  },
  {
   "cell_type": "markdown",
   "metadata": {},
   "source": [
    "## Tiling The Stars"
   ]
  },
  {
   "cell_type": "code",
   "execution_count": 2,
   "metadata": {},
   "outputs": [],
   "source": [
    "# tiling\n",
    "i = 0 #first row\n",
    "Nrow = 100 # Number of tiles in a row, 100 for row 0\n",
    "R = 10\n",
    "R2 = 3\n",
    "dx = 2*R/Nrow # each side of tile\n",
    "rc = vec(0,0,0)\n",
    "rc2 = vec(20,0,0)\n",
    "Nrow2 = Nrow/5\n",
    "dx2 = 2*R2/Nrow2 # each side of tile"
   ]
  },
  {
   "cell_type": "markdown",
   "metadata": {},
   "source": [
    "## Visualizing a Star Orbitting the Other Star"
   ]
  },
  {
   "cell_type": "code",
   "execution_count": 3,
   "metadata": {
    "scrolled": true
   },
   "outputs": [
    {
     "data": {
      "text/html": [
       "<div id=\"glowscript\" class=\"glowscript\"></div>"
      ],
      "text/plain": [
       "<IPython.core.display.HTML object>"
      ]
     },
     "metadata": {},
     "output_type": "display_data"
    },
    {
     "data": {
      "application/javascript": [
       "if (typeof Jupyter !== \"undefined\") { window.__context = { glowscript_container: $(\"#glowscript\").removeAttr(\"id\")};}else{ element.textContent = ' ';}"
      ],
      "text/plain": [
       "<IPython.core.display.Javascript object>"
      ]
     },
     "metadata": {},
     "output_type": "display_data"
    }
   ],
   "source": [
    "scene = canvas()\n",
    "# myring = ring(pos=vector(0,0,0), axis=vector(0,0,1), radius=R, thickness=dx/2, color = color.purple)\n",
    "tiles = [] #holds tiles of stationary star\n",
    "tiles2 = []"
   ]
  },
  {
   "cell_type": "code",
   "execution_count": 4,
   "metadata": {
    "scrolled": true
   },
   "outputs": [
    {
     "data": {
      "application/javascript": [
       "if (typeof Jupyter !== \"undefined\") {require.undef(\"nbextensions/vpython_libraries/glow.min\");}else{element.textContent = ' ';}"
      ],
      "text/plain": [
       "<IPython.core.display.Javascript object>"
      ]
     },
     "metadata": {},
     "output_type": "display_data"
    },
    {
     "data": {
      "application/javascript": [
       "if (typeof Jupyter !== \"undefined\") {require.undef(\"nbextensions/vpython_libraries/glowcomm\");}else{element.textContent = ' ';}"
      ],
      "text/plain": [
       "<IPython.core.display.Javascript object>"
      ]
     },
     "metadata": {},
     "output_type": "display_data"
    },
    {
     "data": {
      "application/javascript": [
       "if (typeof Jupyter !== \"undefined\") {require.undef(\"nbextensions/vpython_libraries/jquery-ui.custom.min\");}else{element.textContent = ' ';}"
      ],
      "text/plain": [
       "<IPython.core.display.Javascript object>"
      ]
     },
     "metadata": {},
     "output_type": "display_data"
    },
    {
     "data": {
      "application/javascript": [
       "if (typeof Jupyter !== \"undefined\") {require([\"nbextensions/vpython_libraries/glow.min\"], function(){console.log(\"GLOW LOADED\");});}else{element.textContent = ' ';}"
      ],
      "text/plain": [
       "<IPython.core.display.Javascript object>"
      ]
     },
     "metadata": {},
     "output_type": "display_data"
    },
    {
     "data": {
      "application/javascript": [
       "if (typeof Jupyter !== \"undefined\") {require([\"nbextensions/vpython_libraries/glowcomm\"], function(){console.log(\"GLOWCOMM LOADED\");});}else{element.textContent = ' ';}"
      ],
      "text/plain": [
       "<IPython.core.display.Javascript object>"
      ]
     },
     "metadata": {},
     "output_type": "display_data"
    },
    {
     "data": {
      "application/javascript": [
       "if (typeof Jupyter !== \"undefined\") {require([\"nbextensions/vpython_libraries/jquery-ui.custom.min\"], function(){console.log(\"JQUERY LOADED\");});}else{element.textContent = ' ';}"
      ],
      "text/plain": [
       "<IPython.core.display.Javascript object>"
      ]
     },
     "metadata": {},
     "output_type": "display_data"
    },
    {
     "name": "stderr",
     "output_type": "stream",
     "text": [
      "/opt/anaconda3/lib/python3.7/site-packages/ipykernel_launcher.py:14: RuntimeWarning: invalid value encountered in sqrt\n",
      "  \n",
      "/opt/anaconda3/lib/python3.7/site-packages/ipykernel_launcher.py:8: RuntimeWarning: invalid value encountered in sqrt\n",
      "  \n",
      "/opt/anaconda3/lib/python3.7/site-packages/ipykernel_launcher.py:27: RuntimeWarning: invalid value encountered in sqrt\n",
      "/opt/anaconda3/lib/python3.7/site-packages/ipykernel_launcher.py:20: RuntimeWarning: invalid value encountered in sqrt\n"
     ]
    }
   ],
   "source": [
    "# create sphere at location vec(0,0,0)\n",
    "\n",
    "y = 0\n",
    "dy = dx\n",
    "x = -R\n",
    "\n",
    "# top half of ring\n",
    "while x<np.sqrt(R**2-y**2): #to get y-position around ring perimiter\n",
    "    while x<np.sqrt(R**2-y**2): #go left to right within the ring's area\n",
    "        mybox = box(pos=vector(x,y,0), length=dx, height=dx, width=dx/2, color = color.green)\n",
    "        tiles.append(mybox)\n",
    "        x = x + dx\n",
    "    y = y + dy\n",
    "    x = -np.sqrt(R**2-y**2)\n",
    "    \n",
    "y = 0\n",
    "x = -R\n",
    "dy = dx\n",
    "#bottom half of ring\n",
    "while x<np.sqrt(R**2-y**2): #to get y-position around ring perimiter\n",
    "    tiles = []\n",
    "    while x<np.sqrt(R**2-y**2): #go left to right within the ring's area\n",
    "        mybox = box(pos=vector(x,y,0), length=dx, height=dx, width=dx/2, color = color.green)\n",
    "        tiles.append(mybox)\n",
    "        x = x + dx\n",
    "    y = y - dy\n",
    "    x = -np.sqrt(R**2-y**2)"
   ]
  },
  {
   "cell_type": "code",
   "execution_count": 7,
   "metadata": {},
   "outputs": [
    {
     "ename": "SyntaxError",
     "evalue": "'return' outside function (<ipython-input-7-53a0b1f3be9a>, line 11)",
     "output_type": "error",
     "traceback": [
      "\u001b[0;36m  File \u001b[0;32m\"<ipython-input-7-53a0b1f3be9a>\"\u001b[0;36m, line \u001b[0;32m11\u001b[0m\n\u001b[0;31m    return None  # exclude imaginary roots\u001b[0m\n\u001b[0m    ^\u001b[0m\n\u001b[0;31mSyntaxError\u001b[0m\u001b[0;31m:\u001b[0m 'return' outside function\n"
     ]
    }
   ],
   "source": [
    "# create new sphere at location vec(20,0,0)\n",
    "\n",
    "y2 = 0\n",
    "dy2 = dx2\n",
    "x2 = -R2\n",
    "\n",
    "# top half of ring\n",
    "while x2 < np.sqrt(R2**2-y2**2): #to get y-position around ring perimiter\n",
    "    while x2 < np.sqrt(R2**2-y2**2): #go left to right within the ring's area\n",
    "        mybox2 = box(pos=vector(x2+20,y2,0),axis = vector(1,0,0), length=dx2, height=dx2, width=dx2/2, color = color.magenta)\n",
    "        tiles2.append(mybox2)\n",
    "        x2 = x2 + dx2\n",
    "    y2 = y2 + dy2\n",
    "    x2 = -np.sqrt(R2**2-y2**2)\n",
    "    \n",
    "y2 = 0\n",
    "x2 = -R2\n",
    "dy2 = dx2\n",
    "#bottom half of ring\n",
    "while x2 < np.sqrt(R2**2-y2**2): #to get y-position around ring perimiter\n",
    "    while x2 < np.sqrt(R2**2-y2**2): #go left to right within the ring's area\n",
    "        mybox2 = box(pos=vector(x2+20,y2,0), axis = vector(1,0,0), length=dx2, height=dx2, width=dx2/2, color = color.magenta)\n",
    "        tiles2.append(mybox2)\n",
    "        x2 = x2 + dx2\n",
    "    y2 = y2 - dy2\n",
    "    x2 = -np.sqrt(R2**2-y2**2)"
   ]
  },
  {
   "cell_type": "markdown",
   "metadata": {},
   "source": [
    "## Orbiting the Smaller Star Around the Bigger Star"
   ]
  },
  {
   "cell_type": "code",
   "execution_count": 6,
   "metadata": {},
   "outputs": [],
   "source": [
    "G = 6.67e-11\n",
    "\n",
    "star1_pos = vec(0,0,0) #center/stationary star\n",
    "star1_m = 100000\n",
    "star1_p = star1_m*vector(0,0,0)\n",
    "\n",
    "star2_m = 100 ## Mass for each tile2\n",
    "\n",
    "theta = 0\n",
    "dtheta = np.pi/1000000\n",
    "\n",
    "total = vec(0,0,0)\n",
    "scene.pause()\n",
    "\n",
    "while theta < 20*np.pi:\n",
    "    rate(10000000)\n",
    "    for n in range(0,np.size(tiles2)):\n",
    "        A = np.sqrt(tiles2[n].pos.x**2 + tiles2[n].pos.z**2)\n",
    "        tiles2[n].pos = vec(A*cos(theta),tiles2[n].pos.y,A*sin(theta))\n",
    "        theta = theta + dtheta  \n",
    "        total = total + tiles2[n].pos"
   ]
  },
  {
   "cell_type": "markdown",
   "metadata": {},
   "source": [
    "## Conclusion \n",
    "\n",
    "The simulation of a star orbitting another stationary star was completed, however, could be improved.  The orbitting star should have its front face, being the disk shown in the simulation, facing forward at the camera's perspective.  This would get a better representation of how much area is being covered on the stationary star by the rotating star.  In the future, the area being covered would need to be calculated.  This would be done through comparing the location of the center masses of the tiles of one star to the other."
   ]
  }
 ],
 "metadata": {
  "kernelspec": {
   "display_name": "Python 3",
   "language": "python",
   "name": "python3"
  },
  "language_info": {
   "codemirror_mode": {
    "name": "ipython",
    "version": 3
   },
   "file_extension": ".py",
   "mimetype": "text/x-python",
   "name": "python",
   "nbconvert_exporter": "python",
   "pygments_lexer": "ipython3",
   "version": "3.7.4"
  }
 },
 "nbformat": 4,
 "nbformat_minor": 2
}
