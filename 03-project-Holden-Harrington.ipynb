{
 "cells": [
  {
   "cell_type": "markdown",
   "metadata": {},
   "source": [
    "# Model of Coupled Oscillators with one End Free and the other Bound"
   ]
  },
  {
   "cell_type": "markdown",
   "metadata": {},
   "source": [
    "## Research Question\n",
    "How to model coupled oscillators moving in a plane with one end fixed and the other free?"
   ]
  },
  {
   "attachments": {},
   "cell_type": "markdown",
   "metadata": {},
   "source": [
    "## Background\n",
    "\n",
    "I would like to first acknowledge my professor Dr. Titus for providing the background information to this project.\n",
    "\n",
    "\n",
    "Defining the ball between the two oscillators as the system and applying the Momentum Principle.\n",
    "\n",
    "Momentum Principle:\n",
    "\n",
    "$$\\begin{align*}\n",
    "\\frac{d\\vec{p}}{dt} & = \\vec{F}_{net}\\\\\n",
    "\\frac{d\\vec{p}}{dt} & = \\vec{F}_{1} + \\vec{F}_2 \\\\\n",
    "\\frac{d\\vec{p}}{dt} & = -k_ss_1\\hat{L}_1 + -k_ss_2\\hat{L}_2 \\\\\n",
    "\\frac{d\\vec{p}}{dt} & = -k_ss_1\\langle 1, 0, 0 \\rangle + -k_ss_2\\langle -1, 0, 0 \\rangle \\\\\n",
    "\\frac{d\\vec{p}}{dt} & = -k_s(L_1-L_0)\\langle 1, 0, 0 \\rangle + -k_s(L_2-L_0)\\langle -1, 0, 0 \\rangle \\\\\n",
    "%\\frac{d\\vec{p}}{dt} & = -k_s(L_1-L_0 -L_2 + L_0)\\langle 1, 0, 0 \\rangle \\\\\n",
    "\\frac{d\\vec{p}}{dt} & = -k_s(L_1 -L_2)\\langle 1, 0, 0 \\rangle \n",
    "\\end{align*}$$\n",
    "\n",
    "\n",
    "The Momentum Principle shows that $d\\vec{p}/dt$ is in the x-direction and is proportional to $(L_1 -L_2)$, this being the difference in the lengths of the springs. Since each ball is connected to exactly two springs, when the Momentum Principle is applied to every ball in a line of coupled oscillators, the same result will be accomplished: the rate of change of the momentum of a ball is in the x-direction and is proportional to the difference in lengths of the springs attached to the ball.\n",
    "\n",
    "To solve for $d\\vec{p}/dt$, define a variable $u$ for the x-component of the position of the ball relative to its equilibrium position, so $u = x-x_{equil}$. This is the *relative position* of the ball. Once the ball is positioned to the left, $u$ is negative, the first spring has a length of $L_0 + u$, and the second one has a length of $L_0-u$. The difference in the lengths of the springs is $L_1 -L_2=2u$, and the Momentum Principle gives $dp_x/dt = -2k_su$.\n",
    "\n",
    "\n",
    "\n",
    "$$\\frac{d^2x}{dt^2}=-\\frac{k_s}{m}x \\ ,\\quad \\omega = \\sqrt{\\frac{k_s}{m}}$$\n",
    "\n",
    "The solution is sinusoidal, $x(t) = A\\,\\cos(\\omega t + \\phi)$, with an angular frequency $\\omega = \\sqrt{k_s/m}$. The phase $\\phi$ is determined by the initial conditions $x_0$ and $v_{x0}$. For the ball connected between two springs, the differential equation is:\n",
    "$$\n",
    "\\begin{align*}\n",
    "\\frac{dp_x}{dt} & = -2k_su \\\\\n",
    "\\frac{mdv_x}{dt} & = -2k_su \\\\\n",
    "\\frac{d\\kern1pt^2x}{dt\\kern1pt^2} & =-\\frac{2k_s}{m}u \n",
    "\\end{align*}\n",
    "$$\n",
    "\n",
    "Since the derivative of $u=x-x_{eq}$ is $du/dt = dx/dt$, and the differential equation of the system is\n",
    "\n",
    "$$\n",
    "\\frac{d^2u}{dt^2} =-\\frac{2k_s}{m}u \\ ,\\quad \\omega =  \\sqrt{\\frac{2k_s}{m}}\n",
    "$$\n",
    "\n",
    "Its solution is also sinusoidal,  $u(t) = A\\,\\cos(\\omega t + \\phi)$, with an angular frequency $\\omega = \\sqrt{2k_s/m}$. The ball oscillates with a sinusoidal displacement from equilibrium, but with a frequency $\\sqrt{2}$ times larger than if there was only one spring."
   ]
  },
  {
   "cell_type": "markdown",
   "metadata": {},
   "source": [
    "## Computational Model\n",
    "The coupled osccilartors with one end bound and the other end free is modelled below.  It involves 10 objects/balls along the springs, with 11 springs connecting them to a singular wall."
   ]
  },
  {
   "cell_type": "markdown",
   "metadata": {},
   "source": [
    "## Assumptions\n",
    "\n",
    "Assuming that the springs are all initially relaxed perfectly and the initial force only affects the first spring at first."
   ]
  },
  {
   "cell_type": "code",
   "execution_count": 9,
   "metadata": {},
   "outputs": [],
   "source": [
    "import numpy as np\n",
    "import matplotlib.pyplot as plt\n",
    "\n",
    "#animate with vpython\n",
    "from vpython import * #watch out for namespace conflicts\n",
    "\n",
    "# calculate eigenvalues and eigenvectors\n",
    "from scipy.linalg import eigh\n",
    "\n",
    "# print to markdown\n",
    "from IPython.display import display, Markdown, Latex\n"
   ]
  },
  {
   "cell_type": "markdown",
   "metadata": {},
   "source": [
    "- Function for fixed end\n",
    "- Function for free end\n",
    "\n",
    "The general coupled oscilattors code with both ends fixed was provided by my professor Dr. Titus, my classmate, Nick Palladino, helped edit the code to change it from being both endfs being fixed to only one."
   ]
  },
  {
   "cell_type": "code",
   "execution_count": 10,
   "metadata": {},
   "outputs": [],
   "source": [
    "def animate(N):\n",
    "    \n",
    "    # properties of the system\n",
    "    M = 12 #mass of string in kg\n",
    "    L = 10 #length of string in m\n",
    "    K = 1 #effective stiffness in N/m\n",
    "\n",
    "    # properties of each mass\n",
    "    m = M/N\n",
    "    L0 = L/(N-1)\n",
    "    k = K*(N-1)\n",
    "\n",
    "    # build matrices\n",
    "    A=np.zeros((N,N))\n",
    "\n",
    "    for i in range(N):\n",
    "        A[i,i] = 2*k\n",
    "        if i==0:\n",
    "            A[0,i+1]=-k\n",
    "        elif i==N-1:\n",
    "            A[i,i-1]=-k\n",
    "            A[i,i] = k #free end\n",
    "        else:\n",
    "            A[i,i-1]=-k\n",
    "            A[i,i+1]=-k\n",
    "\n",
    "    B=m*np.identity(N)\n",
    "\n",
    "    # find eigenvalues and eigenvectors\n",
    "    lamb, a = eigh(A, B)\n",
    "    omegas = np.sqrt(lamb)\n",
    "\n",
    "    ui = np.zeros(N) # initial displacement\n",
    "    ui[0] = -L0/2 # displace first mass\n",
    "\n",
    "    # calculate coefficients using initial conditions\n",
    "    C = np.linalg.solve(a,ui)\n",
    "\n",
    "    #build the general solution\n",
    "    h = 0.01\n",
    "    ttotal = 20\n",
    "    t = np.arange(0,ttotal,h)\n",
    "\n",
    "    u = np.zeros((len(t),N+1))\n",
    "    u[:,0] = np.transpose(t) #store time in first column, u_i in other columns\n",
    "\n",
    "\n",
    "    # Actual Animation Code\n",
    "    scene=canvas()\n",
    "\n",
    "    scene.background=color.white\n",
    "    scene.fov = 0.1\n",
    "\n",
    "    thick = L0/20\n",
    "    height=L0/2\n",
    "    \n",
    "  \n",
    "    wall1 = box(pos= vec(-L/2 - thick, 0, 0), size=vec(thick,height,height), color=vec(0.5,0.5,0.5))\n",
    "    balls=[]\n",
    "   \n",
    "    xballs = np.linspace(-L/2+L0,L/2,N)\n",
    "  \n",
    "    springs=[]\n",
    "    springs.append(helix(pos=vec(-L/2,0,0), axis=vec(L0,0,0), color=color.orange, radius=L0/20))\n",
    "\n",
    "    i=0\n",
    "    for x in xballs:\n",
    "        ball = sphere(pos=vec(x,0,0), radius=L0/10, color=color.red)\n",
    "        ball.eq = x\n",
    "        balls.append(ball)\n",
    "        if i < N-1: #no spring to the right of the last mass\n",
    "            spring = helix(pos=ball.pos, axis=vec(L0,0,0), color=color.orange, radius=ball.radius/2)\n",
    "            springs.append(spring)\n",
    "            i = i + 1\n",
    "\n",
    "    # set initial positions\n",
    "    for i in range(0,len(balls)):\n",
    "        ball = balls[i]\n",
    "        ball.pos.x = ball.eq + u[0,i+1]\n",
    "   \n",
    "    # all springs except first\n",
    "    for i in range(1, len(springs)): \n",
    "        spring = springs[i]\n",
    "        spring.pos=balls[i-1].pos\n",
    "        spring.axis=balls[i].pos-spring.pos\n",
    "\n",
    "    # update first spring\n",
    "    springs[0].axis = balls[0].pos-springs[0].pos\n",
    "   \n",
    "    # animate\n",
    "    scene.pause()\n",
    "    t=0\n",
    "    for n in range(len(u[:,0])):\n",
    "        rate(200)\n",
    "        for i in range(0,len(balls)):\n",
    "            ball = balls[i]\n",
    "            ball.pos.x = ball.eq + u[n,i+1]\n",
    "        \n",
    "        for i in range(1, len(springs)): #all springs except first \n",
    "            spring = springs[i]\n",
    "            spring.pos=balls[i-1].pos\n",
    "            spring.axis=balls[i].pos-spring.pos\n",
    "\n",
    "        #update first spring\n",
    "        springs[0].axis = balls[0].pos-springs[0].pos\n",
    "        \n",
    "    return "
   ]
  },
  {
   "cell_type": "code",
   "execution_count": null,
   "metadata": {},
   "outputs": [
    {
     "data": {
      "text/html": [
       "<div id=\"glowscript\" class=\"glowscript\"></div>"
      ],
      "text/plain": [
       "<IPython.core.display.HTML object>"
      ]
     },
     "metadata": {},
     "output_type": "display_data"
    },
    {
     "data": {
      "application/javascript": [
       "if (typeof Jupyter !== \"undefined\") { window.__context = { glowscript_container: $(\"#glowscript\").removeAttr(\"id\")};}else{ element.textContent = ' ';}"
      ],
      "text/plain": [
       "<IPython.core.display.Javascript object>"
      ]
     },
     "metadata": {},
     "output_type": "display_data"
    }
   ],
   "source": [
    "animate(10)"
   ]
  },
  {
   "cell_type": "markdown",
   "metadata": {},
   "source": [
    "## Conclusion\n",
    "\n",
    "The simulation can now model coupled oscillators moving back and forth in a one dimensional plane without being bound at both ends.  The model can now move freely at one end and fixed at the other.  In the future, it would be interesting to look at both ends being free and taking into account translational velocity as well."
   ]
  },
  {
   "cell_type": "code",
   "execution_count": null,
   "metadata": {},
   "outputs": [],
   "source": []
  }
 ],
 "metadata": {
  "kernelspec": {
   "display_name": "Python 3",
   "language": "python",
   "name": "python3"
  },
  "language_info": {
   "codemirror_mode": {
    "name": "ipython",
    "version": 3
   },
   "file_extension": ".py",
   "mimetype": "text/x-python",
   "name": "python",
   "nbconvert_exporter": "python",
   "pygments_lexer": "ipython3",
   "version": "3.7.4"
  }
 },
 "nbformat": 4,
 "nbformat_minor": 2
}
