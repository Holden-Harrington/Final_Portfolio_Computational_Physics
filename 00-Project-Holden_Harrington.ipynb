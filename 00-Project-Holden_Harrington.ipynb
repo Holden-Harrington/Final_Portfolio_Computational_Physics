{
 "cells": [
  {
   "cell_type": "markdown",
   "metadata": {},
   "source": [
    "# Model of Helium Atoms inside a Latex Balloon\n",
    "In this simulation, helium atoms will be modeled inside a latex balloon.  Each atom will have a mass of 4.0 g/mol and radius of 2.115e-9 meters, in a sphere with radius of 2.155e-09 meters.  The helium atoms will collide with one another and the balloon, creating elastic collisions until they escape the balloon."
   ]
  },
  {
   "cell_type": "markdown",
   "metadata": {},
   "source": [
    "# Research Question\n",
    "1. How do helium atoms interact with one another inside of a balloon?\n",
    "2. What happens to the atoms over time?\n",
    "3. When does the balloon begin to lose helium atoms?"
   ]
  },
  {
   "cell_type": "markdown",
   "metadata": {},
   "source": [
    "# Background\n",
    "\n",
    "According to kinetic energy, the particles will collide elastically and bounce off of one another.  These particles will transfer energy from one another and increase in speed.  After some amount of time, the balloon will lose these particles through the helium atoms gaining enough speed to break through the latex material.  The way that latex is made up at a microscopic level, is that it has a lot of gaps/holes in it.  Over time, the particles are able to travel through these holes after reaching a certain speed.  The rate of diffusion (rate of deflation) for the balloon increases as the helium particles move quicker.  Theoretically, the temperature and the pressure will increase as the motion of the particles increases in space.  This is true due to the first law of thermodynamics and the ideal gas law:\n",
    "$$U = W + Q$$,\n",
    "$$W = P\\Delta V$$,\n",
    "$$P\\Delta V = Nk_B \\Delta T$$\n",
    "\n",
    "$U$ is the themral energy, $W$ stands for work, and $Q$ is heat.  When looking at just work, it is equal to pressure, $P$, multiplied by the change in volume, $V$.  Going one step further to the ideal gas law also shows how to find work through the combination of multiplying the number of particles, $N$, with bolstman's constant, $k_B$, and the change in temperature, $\\Delta T$.\n",
    "\n",
    "For handling the collisions of the particles with the balloon being their boundary, one has to understand the physics behind it.  First, one has to take the dot product of the particles' velocities with the direction (unit vector) of their positions, then multiplied by their directions again to keep a directional component.  This gives a radial component to their velocities.  Then the change of this velocity has to be included in the final velocity after hitting their boundary (the balloon).  This is computed through multiplying -2 times the amount of the magnitude of the radial velocity component by the unit vector of their positions.  Then, the last aspect is to update the velocities by adding this change in the radial component to their intial velocities. "
   ]
  },
  {
   "cell_type": "markdown",
   "metadata": {},
   "source": [
    "# Computational Model\n",
    "The simulation of the helium gas inside a latex balloon is below. The radius of the balloon is 2.115e-9m.  The model has a constant temperature of 300 K. The helium particles all begin with the same velocity and have random starting points.\n",
    "\n",
    "Depending on how long one would like to run the simulation, as it gets very laggy, the following variables will have to be changed:\n",
    "\n",
    "$N$ and $Nsteps$"
   ]
  },
  {
   "cell_type": "markdown",
   "metadata": {},
   "source": [
    "# Assumptions\n",
    "\n",
    "Assuming that elastic collisions occur between the helium atoms and the balloon's latex structure."
   ]
  },
  {
   "cell_type": "code",
   "execution_count": 1,
   "metadata": {},
   "outputs": [
    {
     "data": {
      "text/html": [
       "<div id=\"glowscript\" class=\"glowscript\"></div>"
      ],
      "text/plain": [
       "<IPython.core.display.HTML object>"
      ]
     },
     "metadata": {},
     "output_type": "display_data"
    },
    {
     "data": {
      "application/javascript": [
       "if (typeof Jupyter !== \"undefined\") { window.__context = { glowscript_container: $(\"#glowscript\").removeAttr(\"id\")};}else{ element.textContent = ' ';}"
      ],
      "text/plain": [
       "<IPython.core.display.Javascript object>"
      ]
     },
     "metadata": {},
     "output_type": "display_data"
    }
   ],
   "source": [
    "from vpython import *\n",
    "import numpy as np\n",
    "import random as rand\n",
    "import matplotlib.pyplot as plt"
   ]
  },
  {
   "cell_type": "code",
   "execution_count": 2,
   "metadata": {},
   "outputs": [],
   "source": [
    "def check_collisions():\n",
    "    \"\"\"Determine all pairs of colliding spheres in the global particles[] list. \n",
    "        \n",
    "    \"\"\"\n",
    "    collided_pairs = [] #a list of pairs of spheres that are overlapping\n",
    "    \n",
    "    for i in range(N):\n",
    "        for j in range(i+1,N): #start at i+1 to avoid double counting and to avoid self-collision\n",
    "            d = mag(particles[i].pos - particles[j].pos)\n",
    "            if d < 2*R:\n",
    "                collided_pairs.append([i,j])            \n",
    "    \n",
    "    return collided_pairs"
   ]
  },
  {
   "cell_type": "code",
   "execution_count": 3,
   "metadata": {},
   "outputs": [],
   "source": [
    "def calc_collision(i,j):\n",
    "    \"\"\"Calculate new velocity, momentum, and position of pairs of colliding spheres in the global particles[] list. \n",
    "\n",
    "    Keyword arguments:\n",
    "    i -- index of one colliding sphere\n",
    "    j -- index of second colliding sphere\n",
    "\n",
    "    \"\"\"\n",
    "\n",
    "    global particles\n",
    "    \n",
    "    r1 = particles[i].pos\n",
    "    r2 = particles[j].pos\n",
    "    v1 = particles[i].v\n",
    "    v2 = particles[j].v\n",
    "    p1 = m*v1\n",
    "    p2 = m*v2\n",
    "    v1i = v1\n",
    "    v2i = v2\n",
    "    \n",
    "    #transform to reference frame of particle 1\n",
    "    v2rel = v2 - v1\n",
    "    r2rel = r2 - r1\n",
    "    \n",
    "    #find time when collision ocurred\n",
    "    dx = dot(r2rel, hat(v2rel))\n",
    "    dy = mag(cross(r2rel, hat(v2rel)))\n",
    "    alpha = asin(dy/2/R)\n",
    "    d = 2*R*cos(alpha) + dx\n",
    "    deltat = d/mag(v2rel)\n",
    "    \n",
    "    #move particles backward in time to their locations at the collision\n",
    "    particles[i].pos = particles[i].pos - particles[i].v*deltat\n",
    "    particles[j].pos = particles[j].pos - particles[j].v*deltat\n",
    "    \n",
    "    #calculate new momenta using CM reference frame\n",
    "    r1 = particles[i].pos\n",
    "    r2 = particles[j].pos\n",
    "    M = 2*m #total mass\n",
    "    ptot = p1+p2 #total momentum\n",
    "    vcm = ptot/M\n",
    "    v1rel = v1 - vcm\n",
    "    v2rel = v2 - vcm\n",
    "    p1rel = m*v1rel\n",
    "    p2rel = m*v2rel\n",
    "    r = r2 - r1\n",
    "    p1rel = p1rel - 2*dot(p1rel,hat(r))*hat(r)\n",
    "    p2rel = p2rel - 2*dot(p2rel,hat(r))*hat(r)\n",
    "    v1rel = p1rel/m\n",
    "    v2rel = p2rel/m\n",
    "    v1 = vcm + v1rel\n",
    "    v2 = vcm + v2rel\n",
    "    p1 = m*v1\n",
    "    p2 = m*v2\n",
    "    particles[i].v = v1\n",
    "    particles[j].v = v2\n",
    "\n",
    "    #move particles forward in time to their locations at the end of the time step\n",
    "    particles[i].pos = particles[i].pos + particles[i].v*deltat\n",
    "    particles[j].pos = particles[j].pos + particles[j].v*deltat"
   ]
  },
  {
   "cell_type": "code",
   "execution_count": 4,
   "metadata": {
    "scrolled": false
   },
   "outputs": [
    {
     "data": {
      "text/html": [
       "<div id=\"glowscript\" class=\"glowscript\"></div>"
      ],
      "text/plain": [
       "<IPython.core.display.HTML object>"
      ]
     },
     "metadata": {},
     "output_type": "display_data"
    },
    {
     "data": {
      "application/javascript": [
       "if (typeof Jupyter !== \"undefined\") { window.__context = { glowscript_container: $(\"#glowscript\").removeAttr(\"id\")};}else{ element.textContent = ' ';}"
      ],
      "text/plain": [
       "<IPython.core.display.Javascript object>"
      ]
     },
     "metadata": {},
     "output_type": "display_data"
    },
    {
     "data": {
      "application/javascript": [
       "if (typeof Jupyter !== \"undefined\") {require.undef(\"nbextensions/vpython_libraries/glow.min\");}else{element.textContent = ' ';}"
      ],
      "text/plain": [
       "<IPython.core.display.Javascript object>"
      ]
     },
     "metadata": {},
     "output_type": "display_data"
    },
    {
     "data": {
      "application/javascript": [
       "if (typeof Jupyter !== \"undefined\") {require.undef(\"nbextensions/vpython_libraries/glowcomm\");}else{element.textContent = ' ';}"
      ],
      "text/plain": [
       "<IPython.core.display.Javascript object>"
      ]
     },
     "metadata": {},
     "output_type": "display_data"
    },
    {
     "data": {
      "application/javascript": [
       "if (typeof Jupyter !== \"undefined\") {require.undef(\"nbextensions/vpython_libraries/jquery-ui.custom.min\");}else{element.textContent = ' ';}"
      ],
      "text/plain": [
       "<IPython.core.display.Javascript object>"
      ]
     },
     "metadata": {},
     "output_type": "display_data"
    },
    {
     "data": {
      "application/javascript": [
       "if (typeof Jupyter !== \"undefined\") {require([\"nbextensions/vpython_libraries/glow.min\"], function(){console.log(\"GLOW LOADED\");});}else{element.textContent = ' ';}"
      ],
      "text/plain": [
       "<IPython.core.display.Javascript object>"
      ]
     },
     "metadata": {},
     "output_type": "display_data"
    },
    {
     "data": {
      "application/javascript": [
       "if (typeof Jupyter !== \"undefined\") {require([\"nbextensions/vpython_libraries/glowcomm\"], function(){console.log(\"GLOWCOMM LOADED\");});}else{element.textContent = ' ';}"
      ],
      "text/plain": [
       "<IPython.core.display.Javascript object>"
      ]
     },
     "metadata": {},
     "output_type": "display_data"
    },
    {
     "data": {
      "application/javascript": [
       "if (typeof Jupyter !== \"undefined\") {require([\"nbextensions/vpython_libraries/jquery-ui.custom.min\"], function(){console.log(\"JQUERY LOADED\");});}else{element.textContent = ' ';}"
      ],
      "text/plain": [
       "<IPython.core.display.Javascript object>"
      ]
     },
     "metadata": {},
     "output_type": "display_data"
    }
   ],
   "source": [
    "scene = canvas(title=\"N Particles in a Box\")\n",
    "#constants\n",
    "m = 4.0/1000/6.02e23 #mass of atom in kg\n",
    "R = 0.5e-10 #radius of atom in m\n",
    "L = 40*R #length of box in m\n",
    "thick = L/100 #thickness of box wall in m\n",
    "k = 1.4e-23 #boltzmann constant\n",
    "T = 300 #temp in K\n",
    "s =  np.sqrt(2*3/2*k*T/m) #initial speed\n",
    "h = L+2*R\n",
    "q = h-16*R\n",
    "\n",
    "boundary = sphere(pos = vec(0, 0, 0), radius = h+1.1*R, color=color.blue, opacity = 0.4)\n",
    "scene.camera.follow(boundary)\n",
    "scene.fov = 1000\n",
    "# scene.range = 100\n",
    "scene.autoscale = False\n",
    "particles = [] #list of particles\n",
    "time = []\n",
    "position = []\n",
    "\n",
    "N=100 #number of particles\n",
    "\n",
    "#create particles\n",
    "for i in range(N):\n",
    "    if i==0:\n",
    "        particle = sphere(pos = L/2*vec(rand.uniform(-0.9,0.9),rand.uniform(-0.9,0.9),rand.uniform(-0.9,0.9)), radius = R, color = color.cyan, make_trail=True, retain=20, trail_radius=0.3*R)\n",
    "    else:\n",
    "        particle = sphere(pos = L/2*vec(rand.uniform(-0.9,0.9),rand.uniform(-0.9,0.9),rand.uniform(-0.9,0.9)), radius = R, color = color.red)\n",
    "\n",
    "    #initial velocity\n",
    "    particle.v = s*hat(vec(rand.uniform(-1,1), rand.uniform(-1,1), rand.uniform(-1,1)))\n",
    "    particle.p = m*particle.v\n",
    "\n",
    "    particles.append(particle)\n",
    "\n",
    "#check for collisions and rerandomize positions of particles that are collided\n",
    "collided_pairs = check_collisions()\n",
    "while len(collided_pairs)!=0:\n",
    "    for pair in collided_pairs:\n",
    "        particles[pair[0]].pos = L/2*vec(rand.uniform(-1,1),rand.uniform(-1,1),rand.uniform(-1,1))\n",
    "        particles[pair[1]].pos = L/2*vec(rand.uniform(-1,1),rand.uniform(-1,1),rand.uniform(-1,1))\n",
    "    collided_pairs = check_collisions()\n",
    "\n",
    "#time\n",
    "t = 0\n",
    "dt = R/s/10\n",
    "time.append(0)\n",
    "position.append(N)\n",
    "counter = 0\n",
    "\n",
    "#histogram stuff\n",
    "histograms = [] #a list of histograms after each time step\n",
    "deltav = 100 # bin width for v histogram\n",
    "nbins = int(6000/deltav) #number of bins\n",
    "bin_edges = [int(i*deltav) for i in range(nbins)] #left side of bins\n",
    "\n",
    "#store histogram\n",
    "counts, binx = np.histogram([mag(particle.v) for particle in particles], bins=bin_edges, range=None, normed=None, weights=None, density=None)\n",
    "histograms.append(counts)\n",
    "\n",
    "#evolution\n",
    "scene.pause()\n",
    "\n",
    "Nsteps = 1e5 #number of time steps for the loop\n",
    "\n",
    "while t < Nsteps*dt:\n",
    "    rate(1000) #sets number of loops per second in order to slow down or speed up visualization\n",
    "\n",
    "    #update position of each particle\n",
    "    for particle in particles:\n",
    "        particle.pos = particle.pos + particle.v*dt\n",
    "        \n",
    "    #handle collisions of particles with each other\n",
    "    collided_pairs = check_collisions()\n",
    "    for pair in collided_pairs:\n",
    "        i = pair[0]\n",
    "        j = pair[1]\n",
    "        calc_collision(i,j)\n",
    "#handle collisions with big sphere as boundary\n",
    "    for particle in particles:\n",
    "        if mag(particle.v)<4000: #(a fast speed that will allow an atom to escape the latex)\n",
    "            if mag(particle.pos) > h:\n",
    "                vrad = dot(particle.v,hat(particle.pos))*hat(particle.pos) #multiply by nhat (hat(particle.pos)) to get direction of vrad\n",
    "                #vi outward, vf is inward\n",
    "                dvrad = -2*mag(vrad)*hat(particle.pos)\n",
    "                particle.v = particle.v + dvrad #particle.v is vf and then vi on right side of eqn\n",
    "        if mag(particle.pos)<h+1.1*R:\n",
    "            counter = counter + 1\n",
    "    t = t + dt\n",
    "    time.append(t)\n",
    "    position.append(counter)\n",
    "    counter = 0\n",
    "    #store histogram\n",
    "    counts, binx = np.histogram([mag(particle.v) for particle in particles], bins=bin_edges, range=None, normed=None, weights=None, density=None)\n",
    "    histograms.append(counts)"
   ]
  },
  {
   "cell_type": "code",
   "execution_count": 5,
   "metadata": {},
   "outputs": [],
   "source": [
    "#calculate average histogram\n",
    "Nhist = len(histograms)\n",
    "histsum = np.zeros(len(histograms[0]))\n",
    "for i in range(Nhist):\n",
    "    histsum = histsum + histograms[i]\n",
    "histave = histsum/Nhist"
   ]
  },
  {
   "cell_type": "code",
   "execution_count": 6,
   "metadata": {},
   "outputs": [
    {
     "data": {
      "image/png": "[encoded data removed]",
      "text/plain": [
       "<Figure size 864x576 with 1 Axes>"
      ]
     },
     "metadata": {
      "needs_background": "light"
     },
     "output_type": "display_data"
    }
   ],
   "source": [
    "#plot histogram\n",
    "#calculate speed at center of each bin\n",
    "centers = [] #store speed at center of each bin\n",
    "for i in range(len(binx)-1):\n",
    "    vmiddle = (binx[i] + binx[i+1])/2 #calculate speed at center of bin\n",
    "    centers.append(vmiddle)\n",
    "\n",
    "## Add a theoretical plot\n",
    "dv = 10\n",
    "Ntheor = []\n",
    "vtheory = []\n",
    "for v in range(0,6001+dv,dv):\n",
    "    Ntheor.append((deltav/dv)*N*4*pi*((m/(2*pi*k*T))**1.5) *exp(-0.5*m*(v**2)/(k*T))*(v**2)*dv ) # theoretical prediction\n",
    "    vtheory.append(v)\n",
    "\n",
    "#plot bar graph (histogram)\n",
    "plt.figure(figsize=(12,8))\n",
    "plt.bar(centers, histave, align='center', width=deltav)\n",
    "plt.plot(vtheory,Ntheor,'r-')\n",
    "plt.title('Histogram of Speeds')\n",
    "plt.show()"
   ]
  },
  {
   "cell_type": "code",
   "execution_count": 7,
   "metadata": {},
   "outputs": [
    {
     "data": {
      "image/png": "[encoded data removed]",
      "text/plain": [
       "<Figure size 432x288 with 1 Axes>"
      ]
     },
     "metadata": {
      "needs_background": "light"
     },
     "output_type": "display_data"
    }
   ],
   "source": [
    "plt.plot(time,position,'b.')\n",
    "plt.title('Number of Particles in a Helium Balloon over Time')\n",
    "plt.xlabel(\"Time\")\n",
    "plt.ylabel(\"Number of Particles\")\n",
    "plt.show()"
   ]
  },
  {
   "cell_type": "markdown",
   "metadata": {},
   "source": [
    "# Conclusion\n",
    "\n",
    "This simulation shows that over time, the helium particles will escape the balloon as they speed up.  At around 4000 m/s the atoms begin to fit between the latex gaps in the balloon.  The particles speed up fairly quickly and can escape as soon as 1e-11 seconds in a balloon with a radius of 2.115e-9m.  After 1.75e-10 seconds, about 25% of the atoms are able to escape the balloon."
   ]
  }
 ],
 "metadata": {
  "kernelspec": {
   "display_name": "Python 3",
   "language": "python",
   "name": "python3"
  },
  "language_info": {
   "codemirror_mode": {
    "name": "ipython",
    "version": 3
   },
   "file_extension": ".py",
   "mimetype": "text/x-python",
   "name": "python",
   "nbconvert_exporter": "python",
   "pygments_lexer": "ipython3",
   "version": "3.7.4"
  }
 },
 "nbformat": 4,
 "nbformat_minor": 4
}
